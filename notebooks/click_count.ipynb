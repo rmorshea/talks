{
 "cells": [
  {
   "cell_type": "code",
   "execution_count": 1,
   "id": "e7069380-2a7c-428b-bc40-52125ad88a2b",
   "metadata": {},
   "outputs": [
    {
     "data": {
      "application/vnd.jupyter.widget-view+json": {
       "model_id": "85ca862f7bd645ac941309c2bc26e152",
       "version_major": 2,
       "version_minor": 0
      },
      "text/plain": [
       "Button(description='clicked 0 times', style=ButtonStyle())"
      ]
     },
     "metadata": {},
     "output_type": "display_data"
    }
   ],
   "source": [
    "from IPython.display import display\n",
    "from ipywidgets import widgets\n",
    "\n",
    "button = widgets.Button()\n",
    "state = {\"count\": 0}\n",
    "\n",
    "def on_button_clicked(b):\n",
    "    state[\"count\"] += 1\n",
    "    button.description = f\"clicked {state['count']} times\"\n",
    "\n",
    "button.description = f\"clicked {state['count']} times\"\n",
    "button.on_click(on_button_clicked)\n",
    "\n",
    "display(button)"
   ]
  },
  {
   "cell_type": "code",
   "execution_count": 2,
   "id": "af5c5c78-7089-4eed-a458-94eddbde8dcd",
   "metadata": {},
   "outputs": [
    {
     "data": {
      "application/vnd.jupyter.widget-view+json": {
       "model_id": "959af5bcae4b447a86c98877b015b0c1",
       "version_major": 2,
       "version_minor": 0
      },
      "text/plain": [
       "LayoutWidget(Layout(ClickCounter(139960505724496)))"
      ]
     },
     "metadata": {},
     "output_type": "display_data"
    }
   ],
   "source": [
    "import idom\n",
    "import idom_jupyter\n",
    "\n",
    "@idom.component\n",
    "def ClickCounter():\n",
    "    count, set_count = idom.hooks.use_state(0)\n",
    "    button_class = \"lm-Widget p-Widget jupyter-widgets jupyter-button widget-button\"\n",
    "    return idom.html.button(\n",
    "        {\"onClick\": lambda _: set_count(count + 1), \"class\": button_class},\n",
    "        f\"clicked {count} times\"\n",
    "    )\n",
    "\n",
    "ClickCounter()"
   ]
  },
  {
   "cell_type": "code",
   "execution_count": null,
   "id": "70945bc3-a5bc-439e-ac14-5608878a24fc",
   "metadata": {},
   "outputs": [],
   "source": []
  }
 ],
 "metadata": {
  "kernelspec": {
   "display_name": "Python 3",
   "language": "python",
   "name": "python3"
  },
  "language_info": {
   "codemirror_mode": {
    "name": "ipython",
    "version": 3
   },
   "file_extension": ".py",
   "mimetype": "text/x-python",
   "name": "python",
   "nbconvert_exporter": "python",
   "pygments_lexer": "ipython3",
   "version": "3.9.0"
  }
 },
 "nbformat": 4,
 "nbformat_minor": 5
}
