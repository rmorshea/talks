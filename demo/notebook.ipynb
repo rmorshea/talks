{
 "cells": [
  {
   "cell_type": "markdown",
   "id": "6f8f73ef-d08c-43b3-8f8e-333ca3748ed1",
   "metadata": {},
   "source": [
    "# The Simple Click Counter"
   ]
  },
  {
   "cell_type": "code",
   "execution_count": null,
   "id": "e0fd7f0f",
   "metadata": {},
   "outputs": [],
   "source": [
    "import idom\n",
    "import idom_jupyter"
   ]
  },
  {
   "cell_type": "code",
   "execution_count": null,
   "id": "f15d45df",
   "metadata": {},
   "outputs": [],
   "source": [
    "a_little_extra_styling = {\"style\": {\"userSelect\": \"none\"}}\n",
    "\n",
    "\n",
    "@idom.component\n",
    "def ClickCounter():\n",
    "    count, set_count = idom.hooks.use_state(0)\n",
    "    return idom.html.button(\n",
    "        {\"onClick\": lambda _: set_count(count + 1)},\n",
    "        idom.html.p(\n",
    "            a_little_extra_styling,\n",
    "            f\"clicked {count} times\",\n",
    "        )\n",
    "    )"
   ]
  },
  {
   "cell_type": "code",
   "execution_count": null,
   "id": "d31e8273",
   "metadata": {},
   "outputs": [],
   "source": [
    "ClickCounter()"
   ]
  },
  {
   "cell_type": "markdown",
   "id": "94e54428-ed81-4a27-9fad-20788e9cd307",
   "metadata": {},
   "source": [
    "# Declarative Components\n",
    "\n",
    "### A brief case study\n",
    "\n",
    "---\n",
    "\n",
    "Imagine that we wanted to create a simple AND-gate.\n",
    "\n",
    "IDOM, by adopting the [Hook](https://idom-docs.herokuapp.com/docs/life-cycle-hooks.html#life-cycle-hooks) design pattern from [React](https://reactjs.org/), inherits many of its aesthetic and functional characteristics. For those unfamiliar with hooks, user interfaces are composed of basic HTML elements that are constructed and returned by special functions called “components”. Then, through the magic of hooks, those component functions can be made to have state. Consider the component below which displays a basic representation of an AND-gate:"
   ]
  },
  {
   "cell_type": "code",
   "execution_count": null,
   "id": "3f8d0e7a-501c-4778-94e5-2a4783dc0f6e",
   "metadata": {},
   "outputs": [],
   "source": []
  }
 ],
 "metadata": {
  "interpreter": {
   "hash": "ca77da57642c16a54c47d3bdef5fecd8243105aac59f3aeb64068e9f31c8a983"
  },
  "kernelspec": {
   "display_name": "Python 3",
   "language": "python",
   "name": "python3"
  },
  "language_info": {
   "codemirror_mode": {
    "name": "ipython",
    "version": 3
   },
   "file_extension": ".py",
   "mimetype": "text/x-python",
   "name": "python",
   "nbconvert_exporter": "python",
   "pygments_lexer": "ipython3",
   "version": "3.9.0"
  }
 },
 "nbformat": 4,
 "nbformat_minor": 5
}
