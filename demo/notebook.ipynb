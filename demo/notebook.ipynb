{
 "cells": [
  {
   "cell_type": "code",
   "execution_count": 6,
   "source": [
    "import idom\n",
    "import idom_jupyter"
   ],
   "outputs": [],
   "metadata": {}
  },
  {
   "cell_type": "code",
   "execution_count": 7,
   "source": [
    "import idom\n",
    "\n",
    "\n",
    "a_little_extra_styling = {\"style\": {\"userSelect\": \"none\"}}\n",
    "\n",
    "\n",
    "@idom.component\n",
    "def ClickCounter():\n",
    "    count, set_count = idom.hooks.use_state(0)\n",
    "    return idom.html.button(\n",
    "        {\"onClick\": lambda _: set_count(count + 1)},\n",
    "        idom.html.p(\n",
    "            a_little_extra_styling,\n",
    "            f\"clicked {count} times\",\n",
    "        )\n",
    "    )"
   ],
   "outputs": [],
   "metadata": {}
  },
  {
   "cell_type": "code",
   "execution_count": 8,
   "source": [
    "ClickCounter()"
   ],
   "outputs": [
    {
     "output_type": "display_data",
     "data": {
      "application/vnd.jupyter.widget-view+json": {
       "model_id": "7050fd29cf5449bf9d55898f4bdae056",
       "version_major": 2,
       "version_minor": 0
      },
      "text/plain": [
       "LayoutWidget(Layout(ClickCounter(139964059708048)))"
      ]
     },
     "metadata": {}
    }
   ],
   "metadata": {}
  },
  {
   "cell_type": "code",
   "execution_count": null,
   "source": [],
   "outputs": [],
   "metadata": {}
  }
 ],
 "metadata": {
  "interpreter": {
   "hash": "ca77da57642c16a54c47d3bdef5fecd8243105aac59f3aeb64068e9f31c8a983"
  },
  "kernelspec": {
   "name": "python3",
   "display_name": "Python 3.9.0 64-bit ('venv': venv)"
  },
  "language_info": {
   "codemirror_mode": {
    "name": "ipython",
    "version": 3
   },
   "file_extension": ".py",
   "mimetype": "text/x-python",
   "name": "python",
   "nbconvert_exporter": "python",
   "pygments_lexer": "ipython3",
   "version": "3.9.0"
  }
 },
 "nbformat": 4,
 "nbformat_minor": 5
}