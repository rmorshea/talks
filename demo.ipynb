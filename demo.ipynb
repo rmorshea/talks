{
 "cells": [
  {
   "cell_type": "code",
   "execution_count": 6,
   "id": "e0fd7f0f",
   "metadata": {},
   "outputs": [],
   "source": [
    "import idom\n",
    "import idom_jupyter"
   ]
  },
  {
   "cell_type": "code",
   "execution_count": 11,
   "id": "9f51353e-ee31-4c30-b518-0885d76e9e77",
   "metadata": {},
   "outputs": [
    {
     "data": {
      "text/plain": [
       "{'tagName': 'button',\n",
       " 'children': [{'tagName': 'p',\n",
       "   'attributes': {'style': {'userSelect': 'none'}},\n",
       "   'children': ['clicked 1 times']}],\n",
       " 'eventHandlers': {'onClick': EventHandler(function=<function to_event_handler_function.<locals>.wrapper at 0x7f4bec03b940>, prevent_default=False, stop_propagation=False, target=None)}}"
      ]
     },
     "execution_count": 11,
     "metadata": {},
     "output_type": "execute_result"
    }
   ],
   "source": [
    "idom.html.button(\n",
    "        {\"onClick\": lambda _: set_count(count + 1)},\n",
    "        idom.html.p(\n",
    "            a_little_extra_styling,\n",
    "            f\"clicked 1 times\",\n",
    "        )\n",
    "    )"
   ]
  },
  {
   "cell_type": "code",
   "execution_count": 7,
   "id": "f15d45df",
   "metadata": {},
   "outputs": [],
   "source": [
    "import idom\n",
    "\n",
    "\n",
    "a_little_extra_styling = {\"style\": {\"userSelect\": \"none\"}}\n",
    "\n",
    "\n",
    "@idom.component\n",
    "def ClickCounter():\n",
    "    count, set_count = idom.hooks.use_state(0)\n",
    "    return idom.html.button(\n",
    "        {\"onClick\": lambda _: set_count(count + 1)},\n",
    "        idom.html.p(\n",
    "            a_little_extra_styling,\n",
    "            f\"clicked {count} times\",\n",
    "        )\n",
    "    )"
   ]
  },
  {
   "cell_type": "code",
   "execution_count": 8,
   "id": "d31e8273",
   "metadata": {},
   "outputs": [
    {
     "data": {
      "application/vnd.jupyter.widget-view+json": {
       "model_id": "7050fd29cf5449bf9d55898f4bdae056",
       "version_major": 2,
       "version_minor": 0
      },
      "text/plain": [
       "LayoutWidget(Layout(ClickCounter(139964059708048)))"
      ]
     },
     "metadata": {},
     "output_type": "display_data"
    }
   ],
   "source": [
    "ClickCounter()"
   ]
  },
  {
   "cell_type": "code",
   "execution_count": null,
   "id": "3e986110-2108-44cc-ac03-7c68538b9018",
   "metadata": {},
   "outputs": [],
   "source": []
  }
 ],
 "metadata": {
  "interpreter": {
   "hash": "ca77da57642c16a54c47d3bdef5fecd8243105aac59f3aeb64068e9f31c8a983"
  },
  "kernelspec": {
   "display_name": "Python 3",
   "language": "python",
   "name": "python3"
  },
  "language_info": {
   "codemirror_mode": {
    "name": "ipython",
    "version": 3
   },
   "file_extension": ".py",
   "mimetype": "text/x-python",
   "name": "python",
   "nbconvert_exporter": "python",
   "pygments_lexer": "ipython3",
   "version": "3.9.0"
  }
 },
 "nbformat": 4,
 "nbformat_minor": 5
}
